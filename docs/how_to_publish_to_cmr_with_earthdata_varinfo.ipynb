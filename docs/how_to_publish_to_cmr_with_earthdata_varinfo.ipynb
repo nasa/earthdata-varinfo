{
 "cells": [
  {
   "attachments": {},
   "cell_type": "markdown",
   "metadata": {},
   "source": [
    "## How to use `earthdata-varinfo` to publish UMM-Var records to CMR\n",
    "### Overview:\n",
    "\n",
    "This notebook demonstrates how to create and publish, Unified Metadata Model-Variable (UMM-Var) records to NASA's Common Metadata Repository (CMR) with, `earthdata-varinfo` >= 2.0.0. `earthdata-varinfo` utilizes [`python-cmr`](https://github.com/nasa/python_cmr) to query CMR for collection granules to download locally. The `VarInfoFromNetCDF4` class in `earhdata-varinfo` is used to create CMR compliant UMM-Var entries. Lastly, the `requests` library is used to publish UMM-Var records to a given CMR environment (`OPS`, `UAT`, and `SIT`).\n",
    "\n",
    "### Setting up your environment to run this notebook\n",
    "\n",
    "Create and activate your `pyenv` or conda environment, then:\n",
    "\n",
    "```\n",
    "pip install earthdata-varinfo\n",
    "```\n",
    "\n",
    "If this doesn't work, alternatively you can clone the git repository, and install the package in editable mode:\n",
    "\n",
    "```\n",
    "git clone https://github.com/nasa/earthdata-varinfo\n",
    "cd earthdata-varinfo\n",
    "pip install -e .\n",
    "```\n",
    "### Other notebook requirements:\n",
    "\n",
    "When installing `earthdata-varinfo` via PyPI required packages should automatically be installed as dependencies. \n",
    "For local development, without a standard pip installation, third party requirements can be installed from the following files:\n",
    "\n",
    "```\n",
    "pip install -r requirements.txt -r dev-requirements.txt\n",
    "pip install notebook\n",
    "```\n",
    "### Example usage:\n",
    "\n",
    "* [GLDAS_NOAH10_3H](https://cmr.uat.earthdata.nasa.gov/search/collections.umm_json?concept-id=C1256543837-EEDTEST)\n",
    "* [M2I1NXASM](https://cmr.uat.earthdata.nasa.gov/search/collections.umm_json?concept-id=C1256535511-EEDTEST)\n",
    "\n",
    "### Authorization:\n",
    "\n",
    "* Launchpad or EDL tokens must be used in order query and publish to CMR.\n",
    "* Authorization headers for EDL tokens contain the header prefix `Bearer` before the token\n",
    "    * For example: `Bearer <EDL token>`\n",
    "* Authorization headers for Launchpad tokens do **NOT** contain any prefixes in the header\n",
    "    * For example: `<Launchpad token>`\n",
    "\n",
    "To request a Launchpad Token visit:\n",
    "* [Launchpad Authentication User's Guide](https://wiki.earthdata.nasa.gov/display/CMR/Launchpad+Authentication+User%27s+Guide)"
   ]
  },
  {
   "attachments": {},
   "cell_type": "markdown",
   "metadata": {},
   "source": [
    "### Publish UMM-Var records for **GLDAS_NOAH10_3H** with `generate_collections_umm_var`\n",
    "\n",
    "`generate_collections_umm_var` is a wrapper function that combines the functionalities in `varinfo.cmr_search`, the `VarInfoFromNetCDF4` class and `varinfo.umm_var` to create and publish UMM-Var entries to CMR."
   ]
  },
  {
   "attachments": {},
   "cell_type": "markdown",
   "metadata": {},
   "source": [
    "Update `auth_header` to include your EDL token (e.g. `Bearer <EDL token>`) or Launchpad token (e.g. `<Launchpad token>`)"
   ]
  },
  {
   "cell_type": "code",
   "execution_count": null,
   "metadata": {},
   "outputs": [],
   "source": [
    "auth_header = 'Bearer <EDL token> or <Launchpad token>'"
   ]
  },
  {
   "attachments": {},
   "cell_type": "markdown",
   "metadata": {},
   "source": [
    "Update the `collection_concept_id` to the **GLDAS_NOAH10_3H** concept-id for the EEDTEST provider.\n",
    "* This can be updated to any concept-id for any provider"
   ]
  },
  {
   "cell_type": "code",
   "execution_count": null,
   "metadata": {},
   "outputs": [],
   "source": [
    "collection_concept_id_gldas = 'C1256543837-EEDTEST'"
   ]
  },
  {
   "attachments": {},
   "cell_type": "markdown",
   "metadata": {},
   "source": [
    "Import `generate_collection_umm_var` from `varinfo.generate_umm_var`"
   ]
  },
  {
   "cell_type": "code",
   "execution_count": null,
   "metadata": {},
   "outputs": [],
   "source": [
    "from varinfo.generate_umm_var import generate_collection_umm_var"
   ]
  },
  {
   "attachments": {},
   "cell_type": "markdown",
   "metadata": {},
   "source": [
    "`generate_collection_umm_var` will:\n",
    "\n",
    "* Download the most recent granule for **GLDAS_NOAH10_3H**\n",
    "* Generate the UMM-Var records for this granule\n",
    "* Publish these records to CMR if `publish=True`. \n",
    "* If `publish=True`, a list of ingested variable concept-ids or the error(s) from an unsucessful ingest is returned\n",
    "    * `['V1259971755-EEDTEST', 'V1259971757-EEDTEST', ...]` \n",
    "    * `['V1259971755-EEDTEST', '#: CMR error 1\\n  #: CMR error 2', ...]`\n",
    "* If `publish=False` (default) a list of UMM-Var entries is returned:\n",
    "    * `[...{'Name': 'lat', 'LongName': 'lat', ...}, {'Name': 'time', 'LongName': 'time', ...}...]`"
   ]
  },
  {
   "cell_type": "code",
   "execution_count": null,
   "metadata": {},
   "outputs": [],
   "source": [
    "generate_collection_umm_var(collection_concept_id=collection_concept_id_gldas,\n",
    "                            auth_header=auth_header, publish=True)"
   ]
  },
  {
   "attachments": {},
   "cell_type": "markdown",
   "metadata": {},
   "source": [
    "### Publishing and creating UMM-Var entries for **M2I1NXASM**:\n",
    "This example is an alternative to using `generate_collection_umm_var`. It demonstrates the individual components of `generate_collection_umm_var` with:\n",
    "* `varinfo.cmr_search`: queries CMR for a granule download link and downloads granules locally\n",
    "* `VarInfoFromNetCDF4`: varinfo parent class that represents the contents of a granule\n",
    "* `varinfo.umm_var`: contains functions for creating and publishing UMM-Var records to CMR\n",
    "* `CMR_UAT` is a string constant (e.g. https://cmr.uat.earthdata.nasa.gov/search/) of a CMR environment"
   ]
  },
  {
   "cell_type": "code",
   "execution_count": null,
   "metadata": {},
   "outputs": [],
   "source": [
    "from cmr import CMR_UAT\n",
    "\n",
    "from varinfo.cmr_search import (get_granules, get_granule_link, \n",
    "                                download_granule)\n",
    "\n",
    "from varinfo import VarInfoFromNetCDF4\n",
    "\n",
    "from varinfo.umm_var import (get_all_umm_var, get_umm_var, publish_all_umm_var,\n",
    "                             publish_umm_var)"
   ]
  },
  {
   "attachments": {},
   "cell_type": "markdown",
   "metadata": {},
   "source": [
    "Update the `collection_concept_id` to the **M2I1NXASM** concept-id for the EEDTEST provider\n",
    "* This can be updated to any concept-id for any provider"
   ]
  },
  {
   "cell_type": "code",
   "execution_count": null,
   "metadata": {},
   "outputs": [],
   "source": [
    "collection_concept_id_merra = 'C1256535511-EEDTEST'"
   ]
  },
  {
   "attachments": {},
   "cell_type": "markdown",
   "metadata": {},
   "source": [
    "Get the granule record and granule download URL with `get_granules` and `get_granule_link`\n",
    "\n",
    "* `get_granules`: queries `CMR_UAT` (default is `CMR_OPS`) for a UMM-G record (granule record) given a collection or granule concept-id\n",
    "    * you can query any CMR environment by adding `cmr_env=CMR_UAT` or `cmr_env=CMR_SIT`\n",
    "* `get_granule_link`: parses the UMM-G record from `get_granules` for a data download URL"
   ]
  },
  {
   "cell_type": "code",
   "execution_count": null,
   "metadata": {},
   "outputs": [],
   "source": [
    "granule_response = get_granules(concept_id=collection_concept_id_merra,\n",
    "                                cmr_env=CMR_UAT,\n",
    "                                auth_header=auth_header)\n",
    "url = get_granule_link(granule_response)\n",
    "url"
   ]
  },
  {
   "attachments": {},
   "cell_type": "markdown",
   "metadata": {},
   "source": [
    "Download the granule locally with `download_granule`\n",
    "* Defaults to current directory\n",
    "* Add optional argument `out_directory=/path/to/save/granule` to save to specified path\n",
    "* Returns the path the granule was downloaded to (e.g. `/path/granule/was/saved/to`)"
   ]
  },
  {
   "cell_type": "code",
   "execution_count": null,
   "metadata": {},
   "outputs": [],
   "source": [
    "download_granule(url, auth_header=auth_header)"
   ]
  },
  {
   "attachments": {},
   "cell_type": "markdown",
   "metadata": {},
   "source": [
    "Instantiate a ```VarInfoFromNetCDF4``` object for a local NetCDF-4 file. "
   ]
  },
  {
   "cell_type": "code",
   "execution_count": null,
   "metadata": {},
   "outputs": [],
   "source": [
    "var_info = VarInfoFromNetCDF4('MERRA2_400.inst1_2d_asm_Nx.20220130.nc4',\n",
    "                              short_name='M2I1NXASM')"
   ]
  },
  {
   "attachments": {},
   "cell_type": "markdown",
   "metadata": {},
   "source": [
    "Retrieve a dictionary of UMM-Var JSON records\n",
    "* Returns a nested dictionary of UMM-Var records with full variable paths as keys and their UMM-Var records as values\n",
    "* e.g. `{'/lon': {'Name': 'lon', 'LongName': 'lon', ...}, '/lat': {'Name': 'lat', 'LongName': 'lat', ...}...}`"
   ]
  },
  {
   "cell_type": "code",
   "execution_count": null,
   "metadata": {},
   "outputs": [],
   "source": [
    "umm_var_dict = get_all_umm_var(var_info)\n",
    "umm_var_dict"
   ]
  },
  {
   "attachments": {},
   "cell_type": "markdown",
   "metadata": {},
   "source": [
    "Publish all UMM-Var records for **M2I1NXASM** to CMR_UAT with `publish_all_umm_var`\n",
    "* Returns a dictionary of variable names and variable concept-ids as key value pairs respectively.\n",
    "* Example output: ```{'/lon': 'V1259972387-EEDTEST', '/lat': 'V1259972389-EEDTEST'...}```"
   ]
  },
  {
   "cell_type": "code",
   "execution_count": null,
   "metadata": {},
   "outputs": [],
   "source": [
    "publish_all_umm_var(collection_concept_id_merra,\n",
    "                    umm_var_dict,\n",
    "                    auth_header=auth_header,\n",
    "                    cmr_env=CMR_UAT)"
   ]
  },
  {
   "attachments": {},
   "cell_type": "markdown",
   "metadata": {},
   "source": [
    "### Publish one UMM-Var record with the `var_info.get_variable()` object\n",
    "This example is another alternative to using `generate_collection_umm_var`. In this example we use the granule we have already download locally (**M2I1NXASM**) to create and ingest a single UMM-Var record.\n",
    "* Use `var_info.get_variable()` to retrieve the variable object from `var_info`\n",
    "* Keys are the full variable paths (e.g. `'/TROPPV'`)"
   ]
  },
  {
   "cell_type": "code",
   "execution_count": null,
   "metadata": {},
   "outputs": [],
   "source": [
    "variable = var_info.get_variable('/TROPPV')"
   ]
  },
  {
   "attachments": {},
   "cell_type": "markdown",
   "metadata": {},
   "source": [
    "Check if the variable exists and get a dictionary of the variable's UMM-Var JSON record"
   ]
  },
  {
   "cell_type": "code",
   "execution_count": null,
   "metadata": {},
   "outputs": [],
   "source": [
    "if variable is not None:\n",
    "     umm_var_entry = get_umm_var(var_info, variable)\n",
    "else:\n",
    "    print('Selected variable was not found in granule')\n",
    "\n",
    "umm_var_entry"
   ]
  },
  {
   "attachments": {},
   "cell_type": "markdown",
   "metadata": {},
   "source": [
    "Publish the UMM-Var record for `TROPPV` (from **M2I1NXASM**) to CMR_UAT with `publish_umm_var`\n",
    "* This will return a variable concept-id (e.g. `'V1259972421-EEDTEST'`)"
   ]
  },
  {
   "cell_type": "code",
   "execution_count": null,
   "metadata": {},
   "outputs": [],
   "source": [
    "publish_umm_var(collection_concept_id_merra,\n",
    "                umm_var_entry,\n",
    "                auth_header=auth_header,\n",
    "                cmr_env=CMR_UAT)"
   ]
  }
 ],
 "metadata": {
  "kernelspec": {
   "display_name": "earthdata-varinfo",
   "language": "python",
   "name": "python3"
  },
  "language_info": {
   "codemirror_mode": {
    "name": "ipython",
    "version": 3
   },
   "file_extension": ".py",
   "mimetype": "text/x-python",
   "name": "python",
   "nbconvert_exporter": "python",
   "pygments_lexer": "ipython3",
   "version": "3.11.4"
  },
  "orig_nbformat": 4
 },
 "nbformat": 4,
 "nbformat_minor": 2
}
