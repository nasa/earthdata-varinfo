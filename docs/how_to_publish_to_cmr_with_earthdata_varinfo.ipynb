{
 "cells": [
  {
   "cell_type": "markdown",
   "metadata": {},
   "source": [
    "# How to use `earthdata-varinfo` to publish UMM-Var records to CMR\n",
    "\n",
    "This notebook demonstrates how to create and publish, Unified Metadata Model-Variable (UMM-Var) records to NASA's Common Metadata Repository (CMR) with, `earthdata-varinfo` >= 2.0.0.\n",
    "\n",
    "There are three main workflows described in this notebook:\n",
    "\n",
    "* The use of a single overarching function `generate_collection_umm_var`, which:\n",
    "  * Uses [python-cmr](https://github.com/nasa/python_cmr) to query CMR for collection granules.\n",
    "  * Downloads one of these granules to the local machine.\n",
    "  * Uses `VarInfoFromNetCDF4` to parse in-file metadata from the granule.\n",
    "  * Creates UMM-Var JSON objects for each of the variables found in the downloaded granule.\n",
    "  * (Optionally) Publishes these UMM-Var objects to CMR (in a specified environment: `OPS`, `UAT` or `SIT`).\n",
    "* Performing the same workflow as above, but using individual functions and classes to perform each step in isolation.\n",
    "* Publication of a single UMM-Var record.\n",
    "\n",
    "It is recommended to use `generate_collection_umm_var` for most use-cases. However, if a local file already exists on the machine running this notebook, or a collection doesn't yet have granule metadata, then the second workflow can be used to skip the initial steps of identifying and downloading a granule.\n",
    "\n",
    "### Setting up your environment to run this notebook\n",
    "\n",
    "**Recommended option:**\n",
    "\n",
    "Create and activate your `pyenv` or conda environment, then:\n",
    "\n",
    "```\n",
    "pip install earthdata-varinfo\n",
    "```\n",
    "\n",
    "**Alternative:**\n",
    "\n",
    "If this doesn't work, alternatively you can clone the git repository, and install the package in editable mode:\n",
    "\n",
    "```\n",
    "git clone https://github.com/nasa/earthdata-varinfo\n",
    "cd earthdata-varinfo\n",
    "pip install -e .\n",
    "```\n",
    "\n",
    "### Other notebook requirements:\n",
    "\n",
    "When installing `earthdata-varinfo` via PyPI, required packages should automatically be installed as dependencies. \n",
    "For local development, without a standard pip installation, third party requirements can be installed from the following files:\n",
    "\n",
    "```\n",
    "pip install -r requirements.txt -r dev-requirements.txt\n",
    "pip install notebook\n",
    "```\n",
    "\n",
    "### Authorization:\n",
    "\n",
    "This notebook uses two types of tokens for authentication with external resources.\n",
    "\n",
    "* Launchpad tokens are required to query for and publish metadata records to CMR. The `Authorization` header for these token does not include an HTTP authentication scheme, so the value for the `Authorization` header looks as follow:\n",
    "  * `<Launchpad token>`\n",
    "* Earthdata Login (EDL) tokens are used to download granule files. EDL tokens use the `Bearer` authentication scheme, meaning the `Authorization` header is as follows:\n",
    "  * `Bearer <EDL token>`\n",
    "\n",
    "To request a Launchpad Token visit:\n",
    "* [Launchpad Authentication User's Guide](https://wiki.earthdata.nasa.gov/display/CMR/Launchpad+Authentication+User%27s+Guide)\n",
    "\n",
    "### UMM-Var native IDs:\n",
    "\n",
    "UMM records have a native ID that is required for publication of any record. `earthdata-varinfo` implements the following scheme for native IDs:\n",
    "\n",
    "```\n",
    "<collection_concept_id>-<variable path>\n",
    "\n",
    "# e.g.:\n",
    "C1234567890-PROV-variable_name\n",
    "\n",
    "# Or for a nested variable:\n",
    "C1234567890-PROV-variable_group_variable_path\n",
    "```\n",
    "\n",
    "Using `earthdata-varinfo` multiple times to generate UMM-Var record for the same collection will result in updating existing records, rather than creating duplicate UMM-Var records for the same variables.\n",
    "\n",
    "### Examples in this notebook:\n",
    "\n",
    "* Using `generate_collection_umm_var`: [GLDAS_NOAH10_3H](https://cmr.uat.earthdata.nasa.gov/search/collections.umm_json?concept-id=C1256543837-EEDTEST)\n",
    "* Using individual functions: [M2I1NXASM](https://cmr.uat.earthdata.nasa.gov/search/collections.umm_json?concept-id=C1256535511-EEDTEST)"
   ]
  },
  {
   "cell_type": "markdown",
   "metadata": {},
   "source": [
    "## Workflow 1: Using the single `generate_collection_umm_var` function (recommended):\n",
    "\n",
    "**This option is recommended if you have a collection in CMR with granules, and want the simplest workflow**\n",
    "\n",
    "This example shows how to publish UMM-Var records for **GLDAS_NOAH10_3H** with `generate_collection_umm_var`. `generate_collection_umm_var` is a wrapper function that combines the functionality of individual classes and functions of `earthdata-varinfo`, including: `varinfo.cmr_search`, `VarInfoFromNetCDF4` and `varinfo.umm_var`.\n",
    "\n",
    "`generate_collection_umm_var` will:\n",
    "\n",
    "* Query CMR to find the collection specified and links to granules in that collection.\n",
    "* Download the most recent granule for **GLDAS_NOAH10_3H**.\n",
    "* Parse the in-file metadata for the downloaded granule.\n",
    "* Generate the UMM-Var records from the parsed file information.\n",
    "* Publish these records to CMR if `publish=True`.\n",
    "* If `publish=True`, a list of ingested variable concept-ids or the error(s) from an unsucessful ingest is returned\n",
    "    * `['V1259971755-EEDTEST', 'V1259971757-EEDTEST', ...]` \n",
    "    * `['V1259971755-EEDTEST', '#: CMR error 1\\n  #: CMR error 2', ...]`\n",
    "* If `publish=False` (default) a list of UMM-Var entries is returned:\n",
    "    * `[...{'Name': 'lat', 'LongName': 'lat', ...}, {'Name': 'time', 'LongName': 'time', ...}...]`\n",
    "\n",
    "\n",
    "**Customising the cell below for a different collection:**\n",
    "\n",
    "The following cell specifies the collection concept ID of **GLDAS_NOAH10_3H** (from the `EEDTEST` CMR provider). \n",
    "This can be updated to any concept-id for any provider.\n",
    "\n",
    "Update `auth_header` in the cell below to include your Launchpad token.\n",
    "An optional config file can be passed to override default configuration"
   ]
  },
  {
   "cell_type": "code",
   "execution_count": null,
   "metadata": {},
   "outputs": [],
   "source": [
    "from varinfo.generate_umm_var import generate_collection_umm_var\n",
    "\n",
    "\n",
    "auth_header = '<Launchpad token>'\n",
    "collection_concept_id_gldas = 'C1256543837-EEDTEST'\n",
    "test_config_file = 'tests/unit/data/test_config.json'\n",
    "generate_collection_umm_var(\n",
    "    collection_concept_id=collection_concept_id_gldas,\n",
    "    auth_header=auth_header,\n",
    "    publish=True,\n",
    "    config_file=test_config_file,\n",
    ")"
   ]
  },
  {
   "cell_type": "markdown",
   "metadata": {},
   "source": [
    "## Workflow 2: Publishing CMR records with lower-level functions:\n",
    "\n",
    "**This workflow is primarily for collections without granules or when a file already exists on a local machine.**\n",
    "\n",
    "The following example will publish and create UMM-Var entries for **M2I1NXASM**. It does so by using the individual pieces of functionality wrapped by `generate_collection_umm_var`.\n",
    "\n",
    "* `varinfo.cmr_search`: queries CMR for a granule download link and downloads granules locally\n",
    "* `VarInfoFromNetCDF4`: varinfo parent class that represents the contents of a granule\n",
    "* `varinfo.umm_var`: contains functions for creating and publishing UMM-Var records to CMR\n",
    "* `CMR_UAT` is a string constant (e.g. https://cmr.uat.earthdata.nasa.gov/search/) of a CMR environment\n",
    "\n",
    "First import the individual functions and classes required:"
   ]
  },
  {
   "cell_type": "code",
   "execution_count": null,
   "metadata": {},
   "outputs": [],
   "source": [
    "from cmr import CMR_UAT\n",
    "\n",
    "from varinfo import VarInfoFromNetCDF4\n",
    "from varinfo.cmr_search import download_granule, get_granules, get_granule_link\n",
    "from varinfo.umm_var import get_all_umm_var, publish_all_umm_var, publish_umm_var"
   ]
  },
  {
   "cell_type": "markdown",
   "metadata": {},
   "source": [
    "Next define the CMR concept ID of the collection that will have UMM-Var records generated. In this example, the `collection_concept_id` used is for the **M2I1NXASM** collection in the EEDTEST provider, but this can be updated to a collection concept ID from any provider."
   ]
  },
  {
   "cell_type": "code",
   "execution_count": null,
   "metadata": {},
   "outputs": [],
   "source": [
    "collection_concept_id_merra = 'C1256535511-EEDTEST'"
   ]
  },
  {
   "cell_type": "markdown",
   "metadata": {},
   "source": [
    "Get the granule record and granule download URL with `get_granules` and `get_granule_link`\n",
    "\n",
    "* `get_granules`: queries `CMR_UAT` (default is `CMR_OPS`) for a UMM-G record (granule record) given a collection or granule concept-id\n",
    "    * you can query any CMR environment by adding `cmr_env=CMR_UAT` or `cmr_env=CMR_SIT`\n",
    "* `get_granule_link`: parses the UMM-G record from `get_granules` for a data download URL\n",
    "\n",
    "**This step can be skipped if a granule file is already present on your machine.**"
   ]
  },
  {
   "cell_type": "code",
   "execution_count": null,
   "metadata": {},
   "outputs": [],
   "source": [
    "granule_response = get_granules(\n",
    "    concept_id=collection_concept_id_merra, cmr_env=CMR_UAT, auth_header=auth_header\n",
    ")\n",
    "\n",
    "url = get_granule_link(granule_response)\n",
    "print(url)"
   ]
  },
  {
   "cell_type": "markdown",
   "metadata": {},
   "source": [
    "Download the granule locally with `download_granule`\n",
    "* Defaults to current directory\n",
    "* Add optional argument `out_directory=/path/to/save/granule` to save to specified path\n",
    "* Returns the path the granule was downloaded to (e.g. `/path/granule/was/saved/to`)\n",
    "\n",
    "**This step can be skipped if a granule file is already present on your machine.**"
   ]
  },
  {
   "cell_type": "code",
   "execution_count": null,
   "metadata": {},
   "outputs": [],
   "source": [
    "download_granule(url, auth_header=auth_header)"
   ]
  },
  {
   "cell_type": "markdown",
   "metadata": {},
   "source": [
    "**Start here if you have a local granule file already.**\n",
    "\n",
    "Instantiate a ```VarInfoFromNetCDF4``` object for a local NetCDF-4 file. This will parse the in-file metadata for the specified NetCDF-4 file, including relationships between variables (such as coordinates, bounds, and dimensions)."
   ]
  },
  {
   "cell_type": "code",
   "execution_count": null,
   "metadata": {},
   "outputs": [],
   "source": [
    "var_info = VarInfoFromNetCDF4(\n",
    "    'MERRA2_400.inst1_2d_asm_Nx.20220130.nc4', short_name='M2I1NXASM'\n",
    ")"
   ]
  },
  {
   "cell_type": "markdown",
   "metadata": {},
   "source": [
    "Instantiate a VarInfoFromNetCDF4 object with an optional config file. This will override default configuration."
   ]
  },
  {
   "cell_type": "code",
   "execution_count": null,
   "metadata": {},
   "outputs": [],
   "source": [
    "test_config_file = 'tests/unit/data/test_config.json'\n",
    "var_info = VarInfoFromNetCDF4(\n",
    "    'MERRA2_400.inst1_2d_asm_Nx.20220130.nc4',\n",
    "    short_name='M2I1NXASM',\n",
    "    config_file=test_config_file,\n",
    ")"
   ]
  },
  {
   "cell_type": "markdown",
   "metadata": {},
   "source": [
    "Retrieve a dictionary of UMM-Var JSON records\n",
    "* Returns a nested dictionary of UMM-Var records with full variable paths as keys and their UMM-Var records as values\n",
    "* e.g. `{'/lon': {'Name': 'lon', 'LongName': 'lon', ...}, '/lat': {'Name': 'lat', 'LongName': 'lat', ...}...}`"
   ]
  },
  {
   "cell_type": "code",
   "execution_count": null,
   "metadata": {},
   "outputs": [],
   "source": [
    "umm_var_dict = get_all_umm_var(var_info)\n",
    "print(umm_var_dict)"
   ]
  },
  {
   "cell_type": "markdown",
   "metadata": {},
   "source": [
    "Publish all UMM-Var records for **M2I1NXASM** to CMR_UAT with `publish_all_umm_var`\n",
    "* Returns a dictionary of variable names and variable concept-ids as key value pairs respectively.\n",
    "* Example output: ```{'/lon': 'V1259972387-EEDTEST', '/lat': 'V1259972389-EEDTEST'...}```"
   ]
  },
  {
   "cell_type": "code",
   "execution_count": null,
   "metadata": {},
   "outputs": [],
   "source": [
    "publish_all_umm_var(\n",
    "    collection_concept_id_merra, umm_var_dict, auth_header=auth_header, cmr_env=CMR_UAT\n",
    ")"
   ]
  },
  {
   "cell_type": "markdown",
   "metadata": {},
   "source": [
    "## Workflow 3: Publishing a single UMM-Var record:\n",
    "\n",
    "**This workflow is for updating or creating a single UMM-Var record.**\n",
    "\n",
    "This example is another alternative to using `generate_collection_umm_var`. In this example we use a locally downloaded granule (**M2I1NXASM**) to create and ingest a single UMM-Var record for a variable of interest.\n",
    "* Use `var_info.get_variable()` to retrieve the variable object from `var_info`\n",
    "* Keys are the full variable paths (e.g. `'/TROPPV'`)"
   ]
  },
  {
   "cell_type": "code",
   "execution_count": null,
   "metadata": {},
   "outputs": [],
   "source": [
    "from cmr import CMR_UAT\n",
    "\n",
    "from varinfo import VarInfoFromNetCDF4\n",
    "from varinfo.umm_var import get_umm_var, publish_umm_var"
   ]
  },
  {
   "cell_type": "markdown",
   "metadata": {},
   "source": [
    "First parse the local file, and from it identify the variable of interest:"
   ]
  },
  {
   "cell_type": "code",
   "execution_count": null,
   "metadata": {},
   "outputs": [],
   "source": [
    "var_info = VarInfoFromNetCDF4(\n",
    "    'MERRA2_400.inst1_2d_asm_Nx.20220130.nc4', short_name='M2I1NXASM'\n",
    ")\n",
    "\n",
    "variable = var_info.get_variable('/TROPPV')"
   ]
  },
  {
   "cell_type": "markdown",
   "metadata": {},
   "source": [
    "Check if the variable exists and, if so, get a dictionary of the variable's UMM-Var JSON record"
   ]
  },
  {
   "cell_type": "code",
   "execution_count": null,
   "metadata": {},
   "outputs": [],
   "source": [
    "if variable is not None:\n",
    "    umm_var_entry = get_umm_var(var_info, variable)\n",
    "else:\n",
    "    print('Selected variable was not found in granule')\n",
    "\n",
    "umm_var_entry"
   ]
  },
  {
   "cell_type": "markdown",
   "metadata": {},
   "source": [
    "Publish the UMM-Var record for `TROPPV` (from **M2I1NXASM**) to CMR_UAT with `publish_umm_var`. This will return a variable concept-id (e.g. `'V1259972421-EEDTEST'`)."
   ]
  },
  {
   "cell_type": "code",
   "execution_count": null,
   "metadata": {},
   "outputs": [],
   "source": [
    "publish_umm_var(\n",
    "    collection_concept_id_merra, umm_var_entry, auth_header=auth_header, cmr_env=CMR_UAT\n",
    ")"
   ]
  }
 ],
 "metadata": {
  "kernelspec": {
   "display_name": "Python 3 (ipykernel)",
   "language": "python",
   "name": "python3"
  },
  "language_info": {
   "codemirror_mode": {
    "name": "ipython",
    "version": 3
   },
   "file_extension": ".py",
   "mimetype": "text/x-python",
   "name": "python",
   "nbconvert_exporter": "python",
   "pygments_lexer": "ipython3",
   "version": "3.10.12"
  }
 },
 "nbformat": 4,
 "nbformat_minor": 2
}
