{
 "cells": [
  {
   "attachments": {},
   "cell_type": "markdown",
   "metadata": {},
   "source": [
    "## How to use `earthdata-varinfo` to publish UMM-Var entries to CMR"
   ]
  },
  {
   "attachments": {},
   "cell_type": "markdown",
   "metadata": {},
   "source": [
    "### Version 2.0.0"
   ]
  },
  {
   "attachments": {},
   "cell_type": "markdown",
   "metadata": {},
   "source": [
    "### Overview:"
   ]
  },
  {
   "attachments": {},
   "cell_type": "markdown",
   "metadata": {},
   "source": [
    "This version of `earthdata-varinfo` adds functionality to publish records to CMR, along with a single overarching function that wraps the search, download and publication functionality into a single function for the convenience of the end-user. Additionally, the function signatures for `cmr_search.get_granules` and `cmr_search.download_granule` have been updated to accept the full Authorization header, instead of a bearer token, so that they are also compatible with LaunchPad tokens."
   ]
  },
  {
   "attachments": {},
   "cell_type": "markdown",
   "metadata": {},
   "source": [
    "### Setting up your environment to run this notebook"
   ]
  },
  {
   "attachments": {},
   "cell_type": "markdown",
   "metadata": {},
   "source": [
    "```\n",
    "pip install earthdata-varinfo\n",
    "```\n",
    "\n",
    "If this doesn't work, alternatively you can clone the git repository, and install the package in editable mode:\n",
    "\n",
    "```\n",
    "git clone https://github.com/nasa/earthdata-varinfo\n",
    "cd earthdata-varinfo\n",
    "pip install -e .\n",
    "```"
   ]
  },
  {
   "attachments": {},
   "cell_type": "markdown",
   "metadata": {},
   "source": [
    "### Other notebook requirements:\n",
    "\n",
    "Required packages for `earthdata-varinfo` should be installed as dependencies of PyPI. For local development, without a standard pip installation, third party requirements can be installed from the following files:\n",
    "\n",
    "```\n",
    "pip install -r requirements.txt -r dev-requirements.txt\n",
    "pip install notebook\n",
    "```"
   ]
  },
  {
   "attachments": {},
   "cell_type": "markdown",
   "metadata": {},
   "source": [
    "### Current output format\n",
    "Currently `earthdata-varinfo` produces Python classes that can be used within Python scripts, Jupyter notebooks or a Python Read-Eval-Print Loop (REPL).\n",
    "\n",
    "`earthdata-varinfo` is also able to create UMM-Var compliant JSON records and publish these records to NASA's Common Metadata Repository (CMR)."
   ]
  },
  {
   "attachments": {},
   "cell_type": "markdown",
   "metadata": {},
   "source": [
    "### Example usage:\n",
    "* [M2I1NXASM](https://cmr.uat.earthdata.nasa.gov/search/collections.umm_json?concept-id=C1256535511-EEDTEST)\n",
    "* [GLDAS_NOAH10_3H](https://cmr.uat.earthdata.nasa.gov/search/collections.umm_json?concept-id=C1256543837-EEDTEST)"
   ]
  },
  {
   "cell_type": "code",
   "execution_count": 14,
   "metadata": {},
   "outputs": [],
   "source": [
    "# Import CMR environment\n",
    "from cmr import CMR_UAT\n",
    "\n",
    "# Import varinfo cmr_search functions\n",
    "from varinfo.cmr_search import (get_granules, get_granule_link, \n",
    "                                download_granule)\n",
    "\n",
    "# Import VarInfoFromNetCDF4 class and umm_var functions\n",
    "# for reading and netCDF4 files and creating UMM-Var entries \n",
    "from varinfo import VarInfoFromNetCDF4\n",
    "\n",
    "# Import functions for creating UMM-Var entry and\n",
    "# publishing a UMM-Var entry\n",
    "from varinfo.umm_var import (get_all_umm_var, get_umm_var, publish_all_umm_var,\n",
    "                             publish_umm_var)\n",
    "# Singular function call\n",
    "from varinfo.generate_umm_var import generate_collection_umm_var"
   ]
  },
  {
   "cell_type": "code",
   "execution_count": 12,
   "metadata": {},
   "outputs": [],
   "source": [
    "# Update authorization header to include your bearer token (e.g. 'Bearer TOKEN')\n",
    "# or LaunchPad token (e.g. TOKEN)\n",
    "auth_header = 'Header + Token or Only token'"
   ]
  },
  {
   "attachments": {},
   "cell_type": "markdown",
   "metadata": {},
   "source": [
    "### Get granule response and granule download URL with ```get_granules``` and ```get_granule_link``` for collection **M2I1NXASM**."
   ]
  },
  {
   "cell_type": "code",
   "execution_count": null,
   "metadata": {},
   "outputs": [],
   "source": [
    "granule_response = get_granules(concept_id='C1256535511-EEDTEST',\n",
    "                                cmr_env=CMR_UAT,\n",
    "                                auth_header=auth_header)\n",
    "link = get_granule_link(granule_response)\n",
    "link"
   ]
  },
  {
   "attachments": {},
   "cell_type": "markdown",
   "metadata": {},
   "source": [
    "### Then download the granule locally with `download_granule`"
   ]
  },
  {
   "cell_type": "code",
   "execution_count": null,
   "metadata": {},
   "outputs": [],
   "source": [
    "# Saves granule to current directory or\n",
    "# out_directory=/usr/given/path\n",
    "download_granule(link, auth_header=auth_header)"
   ]
  },
  {
   "attachments": {},
   "cell_type": "markdown",
   "metadata": {},
   "source": [
    "### Instantiate a ```VarInfoFromNetCDF4``` object for a local NetCDF-4 file. "
   ]
  },
  {
   "cell_type": "code",
   "execution_count": 17,
   "metadata": {},
   "outputs": [],
   "source": [
    "# Instantiate a VarInfoFromNetCDF4 object for a local NetCDF-4 file.\n",
    "var_info = VarInfoFromNetCDF4('MERRA2_400.inst1_2d_asm_Nx.20220130.nc4',\n",
    "                              short_name='M2I1NXASM')"
   ]
  },
  {
   "attachments": {},
   "cell_type": "markdown",
   "metadata": {},
   "source": [
    "### Retrieve a dictionary of UMM-Var JSON records"
   ]
  },
  {
   "cell_type": "code",
   "execution_count": null,
   "metadata": {},
   "outputs": [],
   "source": [
    "# Keys are the full variable paths, values are \n",
    "# UMM-Var schema-compatible, JSON-serialisable dictionaries.\n",
    "umm_var_dict = get_all_umm_var(var_info)\n",
    "umm_var_dict"
   ]
  },
  {
   "attachments": {},
   "cell_type": "markdown",
   "metadata": {},
   "source": [
    "### Publish all the UMM-Var entries for M2I1NXASM"
   ]
  },
  {
   "cell_type": "code",
   "execution_count": null,
   "metadata": {},
   "outputs": [],
   "source": [
    "publish_all_umm_var('C1256535511-EEDTEST',\n",
    "                    umm_var_dict,\n",
    "                    auth_header=auth_header,\n",
    "                    cmr_env=CMR_UAT)"
   ]
  },
  {
   "attachments": {},
   "cell_type": "markdown",
   "metadata": {},
   "source": [
    "### Publish a single UMM-Var entry"
   ]
  },
  {
   "cell_type": "code",
   "execution_count": null,
   "metadata": {},
   "outputs": [],
   "source": [
    "# Keys are the full variable paths, values are \n",
    "# UMM-Var schema-compatible, JSON-serialisable dictionaries.\n",
    "umm_var_entry = get_umm_var(var_info, var_info.get_variable('/TROPPV'))\n",
    "umm_var_entry"
   ]
  },
  {
   "attachments": {},
   "cell_type": "markdown",
   "metadata": {},
   "source": [
    "### Retrieve a dictionary of a single UMM-Var JSON records. "
   ]
  },
  {
   "cell_type": "code",
   "execution_count": null,
   "metadata": {},
   "outputs": [],
   "source": [
    "publish_umm_var('C1256535511-EEDTEST',\n",
    "                umm_var_entry,\n",
    "                auth_header=auth_header,\n",
    "                cmr_env=CMR_UAT)"
   ]
  },
  {
   "attachments": {},
   "cell_type": "markdown",
   "metadata": {},
   "source": [
    "### Download a granule for the collection **GLDAS_NOAH10_3H**, generate it's UMM-Var entry and publish it to CMR, with our one function: ```generate_collection_umm_var```"
   ]
  },
  {
   "cell_type": "code",
   "execution_count": null,
   "metadata": {},
   "outputs": [],
   "source": [
    "# Add publish=True if you want publish directly to CMR UAT\n",
    "generate_collection_umm_var(collection_concept_id='C1256543837-EEDTEST',\n",
    "                            auth_header=auth_header)"
   ]
  }
 ],
 "metadata": {
  "kernelspec": {
   "display_name": "earthdata-varinfo",
   "language": "python",
   "name": "python3"
  },
  "language_info": {
   "codemirror_mode": {
    "name": "ipython",
    "version": 3
   },
   "file_extension": ".py",
   "mimetype": "text/x-python",
   "name": "python",
   "nbconvert_exporter": "python",
   "pygments_lexer": "ipython3",
   "version": "3.11.4"
  },
  "orig_nbformat": 4
 },
 "nbformat": 4,
 "nbformat_minor": 2
}
