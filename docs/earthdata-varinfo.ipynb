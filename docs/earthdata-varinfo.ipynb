{
 "cells": [
  {
   "cell_type": "markdown",
   "id": "db883816",
   "metadata": {},
   "source": [
    "# earthdata-varinfo\n",
    "\n",
    "Contact: owen.m.littlejohns@nasa.gov\n",
    "\n",
    "### What is earthdata-varinfo?\n",
    "\n",
    "* A NASA Earth Observing System Data and Information System (EOSDIS) maintained software package.\n",
    "* A Pip-installable Python package that parses granule metadata from a number of input sources.\n",
    "* Used extensively in 4 [Harmony](https://harmony.earthdata.nasa.gov) backend services (HOSS, Swath Projector, Trajectory Subsetter, Harmony Regridding Service).\n",
    "* Leans heavily on the [Climate and Forecast metadata conventions](http://cfconventions.org/).\n",
    "* Born from an effort to consolidate metadata and variable relationship parsing so that services being developed didn't have to repeat the same code.\n",
    "* First internal release 2021-03-11, first PyPI release June 2023.\n",
    "* Includes variable (UMM-Var) JSON generation support.\n",
    "* Maintained by the NASA EOSDIS Transformation Train.\n",
    "* Contributions welcome!\n",
    "\n",
    "### Features\n",
    "\n",
    "* Parses and extracts variable metadata from within source granules.\n",
    "* Also parses relationships between variables, primarily using dimension information or CF-Convention attributes expected to contain such information.\n",
    "* Variable classification via CF-Convention-based heuristics (e.g., using `units` and other attributes).\n",
    "* Metadata can be supplemented or overwritten with a configuration file (which has a fully defined JSON schema).\n",
    "* Extensible for further input formats (uses abstract base classes).\n",
    "* Common Metadata Repository ([CMR](https://www.earthdata.nasa.gov/eosdis/science-system-description/eosdis-components/cmr)) compliant UMM-Var JSON generation.\n",
    "\n",
    "### How to install earthdata-varinfo\n",
    "\n",
    "```\n",
    "pip install earthdata-varinfo\n",
    "```\n",
    "\n",
    "If this doesn't work, alternatively you can clone the [git repository](https://github.com/nasa/earthdata-varinfo), and install the package in editable mode:\n",
    "\n",
    "```\n",
    "git clone https://github.com/nasa/earthdata-varinfo\n",
    "cd earthdata-varinfo\n",
    "pip install -e .\n",
    "```\n",
    "\n",
    "### Other notebook requirements:\n",
    "\n",
    "When installing `earthdata-varinfo` via PyPI required packages should automatically be installed as dependencies. For local development, without a standard pip installation, third party requirements can be installed from the following files:\n",
    "\n",
    "```\n",
    "pip install -r requirements.txt -r dev-requirements.txt\n",
    "pip install notebook\n",
    "```\n",
    "\n",
    "\n",
    "### Input formats\n",
    "\n",
    "* OPeNDAP Dataset Metadata Response files (DMR).\n",
    "* NetCDF-4 files (can also parse HDF-5 files, with varying success regarding variable relationships).\n",
    "\n",
    "### Current output format\n",
    "\n",
    "Currently `earthdata-varinfo` produces Python classes that can be used within Python scripts, Jupyter notebooks or a Python Read-Eval-Print Loop (REPL).\n",
    "\n",
    "`earthdata-varinfo` is also able to create UMM-Var compliant JSON records.\n",
    "\n",
    "### Basic classes:\n",
    "\n",
    "**VarInfoFromNetCDF4 and VarInfoFromDMR:**\n",
    "\n",
    "The main parent classes that represents the contents of a granule. It contains dictionaries of variable instances, and class methods to retrieve variables (e.g., \"required variables\" for a given set of requested variables).\n",
    "\n",
    "**VariableFromNetCDF4 and VariableFromDMR:**\n",
    "\n",
    "A representation of a single granule. Extracts metadata attributes from the input source and fully qualifies references to other variables (to allow determination of relationships with other variables).\n",
    "\n",
    "**CFConfig:**\n",
    "\n",
    "One instance of `CFConfig` is associated with a single `VarInfoFromDMR` or `VarInfoFromNetCDF4` object. When declaring those classes, a short name is either supplied or searched for in the granule metadata. The `CFConfig` instance then retrieves any rules from the specified configuration file that apply to that collection and/or mission.\n",
    "\n",
    "When each individual variable is parsed, any applicable rules from the configuration file are used to, for example, update metadata attribute values.\n",
    "\n",
    "\n",
    "# Example usage:\n",
    "\n",
    "Granules used:\n",
    "\n",
    "* [GPM_3IMERGHH](https://cmr.uat.earthdata.nasa.gov/search/concepts/G1256265181-EEDTEST.umm_json)\n",
    "* [GEDI L4A](https://cmr.uat.earthdata.nasa.gov/search/concepts/G1245557637-EEDTEST.umm_json)\n",
    "\n",
    "The granules linked to above will not be circulated with this notebook, but can be downloaded via the `GET DATA` URLs in the UMM-G records."
   ]
  },
  {
   "cell_type": "code",
   "execution_count": null,
   "id": "fc516cee",
   "metadata": {},
   "outputs": [],
   "source": [
    "import json\n",
    "\n",
    "from varinfo import VarInfoFromNetCDF4\n",
    "\n",
    "# Update the following paths to where you have downloaded the data using the links above:\n",
    "gpm_granule_path = '/path/to/locally/saved/file/3B-HHR.MS.MRG.3IMERG.20200201-S233000-E235959.1410.V06B.HDF5'\n",
    "gedi_l4a_granule_path = '/path/to/locally/saved/file/GEDI04_A_2021216232727_O14984_01_T04304_02_002_01_V002.h5'"
   ]
  },
  {
   "cell_type": "markdown",
   "id": "c1ef3f8a",
   "metadata": {},
   "source": [
    "### Instantiate VarInfoFromNetCDF4 for GPM_3IMERGHH collection:"
   ]
  },
  {
   "cell_type": "code",
   "execution_count": null,
   "id": "9add6230",
   "metadata": {},
   "outputs": [],
   "source": [
    "gpm_imerg = VarInfoFromNetCDF4(gpm_granule_path, short_name='GPM_3IMERGHH')"
   ]
  },
  {
   "cell_type": "markdown",
   "id": "36f52c36",
   "metadata": {},
   "source": [
    "### See which variables are in the granule:"
   ]
  },
  {
   "cell_type": "code",
   "execution_count": null,
   "id": "1e8312fd",
   "metadata": {},
   "outputs": [],
   "source": [
    "gpm_imerg.get_all_variables()"
   ]
  },
  {
   "cell_type": "markdown",
   "id": "0f91829a",
   "metadata": {},
   "source": [
    "### Inspect information on a single variable:"
   ]
  },
  {
   "cell_type": "code",
   "execution_count": null,
   "id": "32f9f2f6",
   "metadata": {},
   "outputs": [],
   "source": [
    "calibrated_precipitation = gpm_imerg.get_variable('/Grid/precipitationCal')\n",
    "print('Variable attributes:')\n",
    "print(calibrated_precipitation.attributes)\n",
    "\n",
    "print('\\n\\nVariable references:')\n",
    "print(calibrated_precipitation.get_references())"
   ]
  },
  {
   "cell_type": "markdown",
   "id": "0a69e2ab",
   "metadata": {},
   "source": [
    "### Required variables:\n",
    "\n",
    "One of the primary use-cases for `earthdata-varinfo` is traversing the relationships between variables. This is done (recursively) below:"
   ]
  },
  {
   "cell_type": "code",
   "execution_count": null,
   "id": "865e9aa5",
   "metadata": {},
   "outputs": [],
   "source": [
    "gpm_imerg.get_required_variables({'/Grid/precipitationCal', })"
   ]
  },
  {
   "cell_type": "markdown",
   "id": "61c8e746",
   "metadata": {},
   "source": [
    "In the output above, `/Grid/precipiationCal` has three dimensions: `/Grid/time`, `/Grid/lat` and `/Grid/lon`. These dimension variables also refer to their respective [bounds variables](http://cfconventions.org/Data/cf-conventions/cf-conventions-1.10/cf-conventions.html#cell-boundaries). Because `get_required_variables` is recursive, the bounds attributes are also considered required variables for `/Grid/precipitationCal`.\n",
    "\n",
    "### More variable relationship examples:\n",
    "\n",
    "Users can supply a set of variable full paths to the following functions to retrieve only the spatial or temporal dimensions for a given variable (methods below are present on both the `VarInfoFromNetCDF4` and `VarInfoFromDMR` classes:\n",
    "\n",
    "* `get_geographic_spatial_dimensions` - Filters the retrieved set of recursively required dimensions to only return those that are considered geographic horizontal spatial dimensions per the [CF-Conventions](http://cfconventions.org/Data/cf-conventions/cf-conventions-1.10/cf-conventions.html#latitude-coordinate). This means that the `units` metadata attribute has an expected format of the values `degrees_east` or `degrees_north`.\n",
    "* `get_projected_spatial_dimensions` - Filters the retrieved set of recursively required dimensions to only return those that are considered projected horizontal spatial dimensions per the [CF-Conventions](http://cfconventions.org/Data/cf-conventions/cf-conventions-1.10/cf-conventions.html#grid-mappings-and-projections). Specifically, the `standard_name` attribute is checked to see if it matches one of `projection_x_coordinate`, `projection_y_coordinate`, `projection_x_angular_coordinate` or `projection_y_angular_coordinate`.\n",
    "* `get_spatial_dimensions` - Creates an output that combines results from both `get_geographic_spatial_dimensions` and `get_projected_spatial_dimensions`.\n",
    "* `get_temporal_dimensions` - Filters the retrieved set of recursively required dimensions to only retrieve those that are considered temporal dimensions per the [CF-Conventions](http://cfconventions.org/Data/cf-conventions/cf-conventions-1.10/cf-conventions.html#time-coordinate). This checks the `units` metadata attribute of attributes for a string containing `' since '`."
   ]
  },
  {
   "cell_type": "code",
   "execution_count": null,
   "id": "54ba7bd7",
   "metadata": {},
   "outputs": [],
   "source": [
    "print('Spatial dimensions for /Grid/precipitationCal')\n",
    "print(gpm_imerg.get_spatial_dimensions({'/Grid/precipitationCal', }))\n",
    "\n",
    "print('\\nTemporal dimensions for /Grid/precipationCal')\n",
    "print(gpm_imerg.get_temporal_dimensions({'/Grid/precipitationCal', }))"
   ]
  },
  {
   "cell_type": "markdown",
   "id": "b187e644",
   "metadata": {},
   "source": [
    "### Grouping variables by dimensions:\n",
    "\n",
    "One common task for variables in a NetCDF-4 file is to identify or group variables that share a common set of dimensions. For example, variables that are all mapped to the same spatiotemporal grid. `earthdata-varinfo` contains methods on the `VarInfoFromNetCDF4` and `VarInfoFromDMR` classes to facilitate this.\n",
    "\n",
    "* `get_variables_with_dimensions` - returns a set of variable paths for variables that have all of the listed input dimensions. Note - the returned variables might also have other dimensions, too.\n",
    "* `group_variables_by_dimensions` - Returns a dictionary structure, where the keys are tuples of dimensions and the values are full paths of the variables with exactly those dimensions.\n",
    "* `group_variables_by_horizontal_dimensions` - Returns a dictionary structure, where the keys are tuples of dimensions and the values are full paths of the variables with those spatial dimensions. Note - the listed variables might have other dimensions in addition to the specified horizontal spatial dimensions, such that variables with dimensions `(time, latitude, longitude)` would be grouped with `(latitude, longitude)`.\n",
    "\n",
    "The example below shows usage of the `group_variables_by_dimensions` method:"
   ]
  },
  {
   "cell_type": "code",
   "execution_count": null,
   "id": "0ed2ae1a",
   "metadata": {},
   "outputs": [],
   "source": [
    "gpm_imerg.group_variables_by_dimensions()"
   ]
  },
  {
   "cell_type": "markdown",
   "id": "8299fc18",
   "metadata": {},
   "source": [
    "## UMM-Var JSON generation:\n",
    "\n",
    "`earthdata-varinfo` is able to create UMM-Var compliant JSON records, supporting the following fields (items in bold are required fields):\n",
    "\n",
    "* **Name**\n",
    "* **LongName**\n",
    "* **Definition**\n",
    "* StandardName\n",
    "* DataType\n",
    "* Units\n",
    "* Scale\n",
    "* Offset\n",
    "* Dimensions (although not all dimension types and size are captured)\n",
    "* FillValues\n",
    "* ValidRanges\n",
    "* **MetadataSpecification**\n",
    "\n",
    "### For a single variable:"
   ]
  },
  {
   "cell_type": "code",
   "execution_count": null,
   "id": "6a104883",
   "metadata": {},
   "outputs": [],
   "source": [
    "from varinfo import VarInfoFromNetCDF4\n",
    "from varinfo.umm_var import get_all_umm_var, get_umm_var\n",
    "\n",
    "var_info = VarInfoFromNetCDF4(gpm_granule_path, short_name='GPM_3IMERGHH')\n",
    "\n",
    "# Get single UMM-Var record by variable name:\n",
    "precipitation_variable = var_info.get_variable('/Grid/precipitationCal')\n",
    "single_umm_var = get_umm_var(var_info, precipitation_variable)\n",
    "\n",
    "print(json.dumps(single_umm_var, indent=2))"
   ]
  },
  {
   "cell_type": "markdown",
   "id": "6fc563c3",
   "metadata": {},
   "source": [
    "### For all variables in a granule:\n",
    "\n",
    "Note: Non-variable dimensions (e.g., `/Grid/latv` for `/Grid/lat_bnds`) with be listed as dimensions within a UMM-Var record to ensure the UMM-Var record captures the true shape of the variable with such dimensions."
   ]
  },
  {
   "cell_type": "code",
   "execution_count": null,
   "id": "17d4fcb2",
   "metadata": {},
   "outputs": [],
   "source": [
    "all_umm_var = get_all_umm_var(var_info)\n",
    "\n",
    "print(json.dumps(all_umm_var, indent=2))"
   ]
  },
  {
   "cell_type": "markdown",
   "id": "5cf8246b",
   "metadata": {},
   "source": [
    "### Saving to disk\n",
    "\n",
    "This was a requested feature, to enable manual inspection and editing of JSON files. Each UMM-Var record will be saved as a separate JSON file:"
   ]
  },
  {
   "cell_type": "code",
   "execution_count": null,
   "id": "6588a460",
   "metadata": {},
   "outputs": [],
   "source": [
    "from glob import glob\n",
    "from tempfile import mkdtemp\n",
    "\n",
    "from varinfo.umm_var import export_all_umm_var_to_json\n",
    "\n",
    "\n",
    "temp_dir = mkdtemp()\n",
    "\n",
    "export_all_umm_var_to_json(all_umm_var.values(), output_dir=temp_dir)\n",
    "\n",
    "print(f'Files stored in {temp_dir}\\n')\n",
    "print(json.dumps(glob(f'{temp_dir}/*json'), indent=2))"
   ]
  },
  {
   "cell_type": "markdown",
   "id": "079bf24c",
   "metadata": {},
   "source": [
    "### UMM-Var validation:"
   ]
  },
  {
   "cell_type": "code",
   "execution_count": null,
   "id": "a2a8bae2",
   "metadata": {},
   "outputs": [],
   "source": [
    "from jsonschema import validate\n",
    "\n",
    "\n",
    "# The path to the UMM-Var schema might need to be updated depending on\n",
    "# the root path of your Jupyter notebook server.\n",
    "# This file can also be obtained from:\n",
    "# https://github.com/nasa/earthdata-varinfo/main/tests/unit/data/umm_var_json_schema_1.8.2.json\n",
    "with open('../tests/unit/data/umm_var_json_schema_1.8.2.json') as file_handler:\n",
    "    umm_var_schema = json.load(file_handler)\n",
    "\n",
    "for umm_var_record in all_umm_var.values():\n",
    "    validate(schema=umm_var_schema, instance=umm_var_record)"
   ]
  },
  {
   "cell_type": "markdown",
   "id": "0580fd47",
   "metadata": {},
   "source": [
    "### Proving bad records can be identified:\n",
    "\n",
    "Adding `jsonschema.validate` to the unit tests helped identify a bug with a poorly read `scale` metadata attribute. The cell below will raise a validation error, as it updates the `Scale` property to be invalid per the UMM-Var schema."
   ]
  },
  {
   "cell_type": "code",
   "execution_count": null,
   "id": "c629a365",
   "metadata": {},
   "outputs": [],
   "source": [
    "bad_record = all_umm_var['/Grid/precipitationUncal'].copy()\n",
    "bad_record['Scale'] = True\n",
    "\n",
    "validate(schema=umm_var_schema, instance=bad_record)"
   ]
  },
  {
   "cell_type": "markdown",
   "id": "176e50b3",
   "metadata": {},
   "source": [
    "### earthdata-varinfo UMM-Var future work:\n",
    "\n",
    "The list below refers to potential improvements that can be made within the core Python package to improve the schema coverage of the generated UMM-Var records:\n",
    "\n",
    "* Ensuring variables parsed from a DMR file also contain shape information, similar to current functionality of NetCDF-4 file parsing. This information is stored within a DMR in separate `<Dimension />` XML elements. This would allow UMM-Var JSON generated from DMR data to have sizes on their dimensions.\n",
    "* Adding suitable heuristics to the `VariableBase` class to identify vertical spatial dimensions. Currently these map to the dimension type of \"OTHER\".\n",
    "* Adding along- and across-track swath dimension identification heuristics to `VariableBase`.\n",
    "* Improving the metadata for projected horizontal spatial dimensions. These are currently mapped to a dimension type of \"OTHER\". While they can be identified within the `Variable` classes, there is not currently an applicable UMM-Var option in the `DimensionType.Type` enumeration:\n",
    "  * \"LATITUDE_DIMENSION\"\n",
    "  * \"LONGITUDE_DIMENSION\"\n",
    "  * \"ALONG_TRACK_DIMENSION\"\n",
    "  * \"CROSS_TRACK_DIMENSION\"\n",
    "  * \"PRESSURE_DIMENSION\"\n",
    "  * \"HEIGHT_DIMENSION\"\n",
    "  * \"DEPTH_DIMENSION\"\n",
    "  * \"TIME_DIMENSION\"\n",
    "  * \"OTHER\"\n",
    "* Adding a mechanism to indicate that a variable size may vary between granules, beyond manual editing of generated UMM-Var JSON. This might be possible via comparing the parsing of multiple granules from the same collection.\n",
    "* All fill values are currently denoted as \"SCIENCE_FILLVALUES\" - definitely interested in any heuristics to improve this.\n",
    "* Implementing semantically anchored vocabulary standardisation.\n",
    "* Considering how UMM-Var to UMM-Var associations can be identified, given that `earthdata-varinfo` identifies required variables via metadata attributes and dimensions."
   ]
  }
 ],
 "metadata": {
  "kernelspec": {
   "display_name": "Python 3 (ipykernel)",
   "language": "python",
   "name": "python3"
  },
  "language_info": {
   "codemirror_mode": {
    "name": "ipython",
    "version": 3
   },
   "file_extension": ".py",
   "mimetype": "text/x-python",
   "name": "python",
   "nbconvert_exporter": "python",
   "pygments_lexer": "ipython3",
   "version": "3.10.12"
  }
 },
 "nbformat": 4,
 "nbformat_minor": 5
}
